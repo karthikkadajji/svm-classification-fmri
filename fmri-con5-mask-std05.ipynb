{
 "cells": [
  {
   "cell_type": "code",
   "execution_count": 1,
   "id": "2b57502d",
   "metadata": {
    "id": "2b57502d",
    "outputId": "9fb42d01-3a93-424c-80ce-d6c698a3fc78"
   },
   "outputs": [
    {
     "name": "stderr",
     "output_type": "stream",
     "text": [
      "/home/kadajji/anaconda3/lib/python3.9/site-packages/nilearn/input_data/__init__.py:27: FutureWarning: The import path 'nilearn.input_data' is deprecated in version 0.9. Importing from 'nilearn.input_data' will be possible at least until release 0.13.0. Please import from 'nilearn.maskers' instead.\n",
      "  warnings.warn(message, FutureWarning)\n"
     ]
    }
   ],
   "source": [
    "#Redo for the bug mci+ad                            mci vs cn             ad vs cn\n",
    "\"\"\"\n",
    "pyder Editor\n",
    "\n",
    "This is a temporary script file.\n",
    "\"\"\"\n",
    "\n",
    "import os\n",
    "import numpy as np\n",
    "import nibabel as nib\n",
    "import pandas as pd\n",
    "from sklearn.svm import OneClassSVM\n",
    "from nilearn.input_data import MultiNiftiMasker\n",
    "import array as arr\n",
    "from sklearn.model_selection import ShuffleSplit\n",
    "from sklearn import svm\n",
    "from sklearn.model_selection import cross_val_score\n",
    "import scipy.io as spio\n",
    "import pandas as pd\n",
    "import scipy.ndimage as ndimage\n",
    "from scipy import misc\n",
    "from datetime import datetime\n",
    "import re\n",
    "import numpy as np\n",
    "import matplotlib.pyplot as plt\n",
    "from itertools import cycle\n",
    "from sklearn.metrics import ConfusionMatrixDisplay\n",
    "\n",
    "from sklearn import svm, datasets\n",
    "from sklearn.metrics import roc_curve, auc\n",
    "from sklearn.model_selection import train_test_split\n",
    "from sklearn.preprocessing import label_binarize\n",
    "from sklearn.multiclass import OneVsRestClassifier\n",
    "from sklearn.metrics import roc_auc_score\n",
    "\n",
    "import matplotlib.pyplot as plt\n",
    "from sklearn.datasets import make_classification\n",
    "from sklearn.metrics import confusion_matrix, ConfusionMatrixDisplay\n",
    "from sklearn.model_selection import train_test_split\n",
    "from sklearn.svm import SVC\n",
    "\n",
    "from sklearn.model_selection import train_test_split\n",
    "from sklearn import svm\n",
    "from sklearn import metrics"
   ]
  },
  {
   "cell_type": "code",
   "execution_count": 2,
   "id": "6410693c",
   "metadata": {
    "id": "6410693c"
   },
   "outputs": [],
   "source": [
    "#### modify the path here\n",
    "absolute_path = '/home/kadajji/hydra-work/DELCODE_fMRI_GLMs_parametric/data/M0/glm/'\n",
    "data_path = 'con0005_csf/'\n",
    "\n",
    "regex_filter = 'wp1_*'\n",
    "delcode_cov = '/home/kadajji/hydra-work/delcode_cov1079.mat'"
   ]
  },
  {
   "cell_type": "code",
   "execution_count": 3,
   "id": "ae48c480",
   "metadata": {
    "id": "ae48c480"
   },
   "outputs": [],
   "source": [
    "def create_confusion_matrix(test_label ,prediction, classifier):\n",
    "    print(np.unique(test_label,return_counts=True))\n",
    "    cm = confusion_matrix(test_label, prediction, labels=classifier.classes_)\n",
    "    disp = ConfusionMatrixDisplay(confusion_matrix=cm,\n",
    "                                  display_labels=clf.classes_)\n",
    "    disp.plot()\n",
    "\n",
    "    plt.show()"
   ]
  },
  {
   "cell_type": "code",
   "execution_count": 4,
   "id": "dda7db94",
   "metadata": {
    "id": "dda7db94"
   },
   "outputs": [],
   "source": [
    "\n",
    "def plotting_roc_auc_curve(test_label, prediction):\n",
    "    false_Positive_Rate, true_positive_rate, thresholds = metrics.roc_curve(test_label, prediction)\n",
    "    roc_auc = metrics.auc(false_Positive_Rate, true_positive_rate)\n",
    "    display = metrics.RocCurveDisplay(fpr=false_Positive_Rate, tpr=true_positive_rate, roc_auc=roc_auc,\n",
    "                                      estimator_name='SVM')\n",
    "    display.plot()\n",
    "\n",
    "    plt.show()"
   ]
  },
  {
   "cell_type": "code",
   "execution_count": 5,
   "id": "1c88577b",
   "metadata": {
    "id": "1c88577b"
   },
   "outputs": [],
   "source": [
    "def read_nifti(absolute_path, data_path, regex_filter, mask=\"/home/kadajji/hydra-work/DELCODE_fMRI_GLMs_parametric/data/M0/glm/temp/output_mask_std_afteroutlier.nii\", smooth=None):\n",
    "     start_time = datetime.now()\n",
    "     absolute_path = str(absolute_path)\n",
    "     regex_filter = str(regex_filter)\n",
    "     if(mask):\n",
    "         #mask = absolute_path + str(mask)\n",
    "         niftimasker = MultiNiftiMasker(mask_img=mask, smoothing_fwhm=smooth, n_jobs=-2)\n",
    "     else:\n",
    "        niftimasker = MultiNiftiMasker(smoothing_fwhm=smooth, n_jobs=-2)\n",
    "     # mask images and get data\n",
    "     data_folder = absolute_path + str(data_path)\n",
    "     list_path = []\n",
    "     subjs = []\n",
    "     for files in os.listdir(data_folder):\n",
    "         if re.match(regex_filter, files):\n",
    "             image_path = data_folder + files\n",
    "             list_path.append(image_path)\n",
    "             subject_name = os.path.basename(files).split('_')[3]\n",
    "             subject_name = os.path.basename(subject_name).split('.')[0]\n",
    "             subjs.append(subject_name)\n",
    "     print(\"Reading \"+ regex_filter +\" volume data please wait.........\")\n",
    "     \n",
    "     list_path = np.sort(list_path)\n",
    "     subjs = np.sort(subjs)\n",
    "     x = niftimasker.fit_transform(list_path)\n",
    "     x = np.vstack(x)\n",
    "     subjects_id  = pd.DataFrame()\n",
    "     subjects_id['subjs'] = subjs\n",
    "     data_matrix = pd.DataFrame(x, dtype='float64')\n",
    "     end_time = datetime.now()\n",
    "     time = end_time-start_time\n",
    "     print(\"Total time in minutes :\", float(time.total_seconds()/60))\n",
    "     return data_matrix, subjects_id"
   ]
  },
  {
   "cell_type": "code",
   "execution_count": 6,
   "id": "82ed44ac",
   "metadata": {
    "id": "82ed44ac"
   },
   "outputs": [],
   "source": [
    "def get_data_mat(mat_url):\n",
    "     dat = spio.loadmat(mat_url, squeeze_me=True)\n",
    "     demo = dat['Demo']\n",
    "     body = dat['Body']\n",
    "     gen = dat['Gen']\n",
    "     csf = dat['Csf']\n",
    "     cog = dat['Cog']\n",
    "     vol = dat['Vol']\n",
    "     cog = cog['X'][()]\n",
    "     csf = csf['X'][()]\n",
    "     delcode_data = pd.DataFrame()\n",
    "     delcode_data['subjs'] = dat['IDs'][()]\n",
    "     delcode_data['id'] = demo['IDn'][()]\n",
    "     delcode_data['age'] = demo['age_bl'][()]\n",
    "     delcode_data['bmi'] = body['bmi'][()]\n",
    "     delcode_data['diag'] = demo['diag_bl'][()]\n",
    "     delcode_data['sex'] = demo['sex'][()]\n",
    "     delcode_data['edu'] = demo['edu'][()]\n",
    "     delcode_data['fmem'] = cog[:,21]\n",
    "     return delcode_data"
   ]
  },
  {
   "cell_type": "code",
   "execution_count": 7,
   "id": "35ee235a",
   "metadata": {
    "id": "35ee235a",
    "outputId": "8991f2d5-2c36-4db9-e9cd-27998f0f9b6f"
   },
   "outputs": [
    {
     "name": "stdout",
     "output_type": "stream",
     "text": [
      "Reading wp1_* volume data please wait.........\n",
      "Total time in minutes : 0.12682770000000002\n"
     ]
    }
   ],
   "source": [
    "data, subjects = read_nifti(absolute_path, data_path, regex_filter)"
   ]
  },
  {
   "cell_type": "code",
   "execution_count": 8,
   "id": "a288bc2f",
   "metadata": {
    "id": "a288bc2f"
   },
   "outputs": [],
   "source": [
    "delcode_data = get_data_mat(delcode_cov)\n",
    "subjects['age'] = subjects.subjs.map(delcode_data.set_index('subjs')['age'])\n",
    "subjects['edu'] = subjects.subjs.map(delcode_data.set_index('subjs')['edu'])\n",
    "subjects['sex'] = subjects.subjs.map(delcode_data.set_index('subjs')['sex'])\n",
    "subjects['diag'] = subjects.subjs.map(delcode_data.set_index('subjs')['diag'])"
   ]
  },
  {
   "cell_type": "code",
   "execution_count": 9,
   "id": "da378984",
   "metadata": {
    "id": "da378984"
   },
   "outputs": [],
   "source": [
    "subjects = subjects.dropna()"
   ]
  },
  {
   "cell_type": "code",
   "execution_count": 10,
   "id": "82fd94b3",
   "metadata": {
    "id": "82fd94b3",
    "outputId": "e47c0c14-5ddd-4db9-a5fb-539262a54ca1"
   },
   "outputs": [
    {
     "data": {
      "text/plain": [
       "493"
      ]
     },
     "execution_count": 10,
     "metadata": {},
     "output_type": "execute_result"
    }
   ],
   "source": [
    "len(subjects)"
   ]
  },
  {
   "cell_type": "markdown",
   "id": "d2465331",
   "metadata": {
    "id": "d2465331"
   },
   "source": [
    "#### todo write with crossvalidation"
   ]
  },
  {
   "cell_type": "code",
   "execution_count": 11,
   "id": "c53c0183",
   "metadata": {
    "id": "c53c0183"
   },
   "outputs": [],
   "source": [
    "from sklearn.metrics import recall_score\n",
    "from sklearn.model_selection import cross_validate\n",
    "from sklearn.model_selection import GridSearchCV\n",
    "from sklearn.metrics import f1_score, make_scorer\n",
    "\n",
    "scoring = ['roc_auc','f1_weighted']\n",
    "parameters = {'kernel':['linear','rbf'], 'C': [i for i in np.arange(0.00001,.01,0.001)]}"
   ]
  },
  {
   "cell_type": "code",
   "execution_count": 12,
   "id": "0c68eaa4",
   "metadata": {
    "id": "0c68eaa4",
    "scrolled": true
   },
   "outputs": [],
   "source": [
    "def make_train_test_diag_split(diag1,diag2):\n",
    "    Y_train, Y_test = train_test_split(subjects, test_size = 0.25,random_state=55)\n",
    "    X_train = pd.DataFrame(data, index=Y_train.index)\n",
    "    X_test= pd.DataFrame(data, index=Y_test.index)\n",
    "    \n",
    "    Y_test['diag'] = Y_test['diag'].astype('int')\n",
    "    Y_train['diag'] = Y_train['diag'].astype('int')\n",
    "    #filter diag1 and diag2 on train dataset and labels\n",
    "    X_train_diag1 = X_train.loc[X_train.index[Y_train['diag']==diag1]]\n",
    "    X_train_diag2 = X_train.loc[X_train.index[Y_train['diag']==diag2]]\n",
    "    X_train_diag = X_train_diag1.append(X_train_diag2)\n",
    "\n",
    "    Y_train_diag1 = Y_train.loc[Y_train.index[Y_train['diag']==diag1]]\n",
    "    Y_train_diag2 = Y_train.loc[Y_train.index[Y_train['diag']==diag2]]\n",
    "    Y_train_diag = Y_train_diag1.append(Y_train_diag2)\n",
    "\n",
    "    #Rename Y labels to 0 and 1\n",
    "    Y_train_diag.loc[Y_train_diag['diag'] == diag1, 'diag'] = 0\n",
    "    Y_train_diag.loc[Y_train_diag['diag'] == diag2, 'diag'] = 1\n",
    "\n",
    "\n",
    "    #filter diag1 and diag2 on test dataset and labels\n",
    "    X_test_diag1 = X_test.loc[X_test.index[Y_test['diag']==diag1]]\n",
    "    X_test_diag2 = X_test.loc[X_test.index[Y_test['diag']==diag2]]\n",
    "    X_test_diag = X_test_diag1.append(X_test_diag2)\n",
    "\n",
    "\n",
    "    Y_test_diag1 = Y_test.loc[Y_test.index[Y_test['diag']==diag1]]\n",
    "    Y_test_diag2 = Y_test.loc[Y_test.index[Y_test['diag']==diag2]]\n",
    "    Y_test_diag = Y_test_diag1.append(Y_test_diag2)\n",
    "\n",
    "\n",
    "    #Rename Y labels to 0 and 1\n",
    "\n",
    "    Y_test_diag.loc[Y_test_diag['diag'] == diag1, 'diag'] = 0\n",
    "    Y_test_diag.loc[Y_test_diag['diag'] == diag2, 'diag'] = 1\n",
    "    trainingsamples = np.unique(Y_train_diag.diag,return_counts=True)\n",
    "    print(\"number of training samples \" + str(trainingsamples))\n",
    "    testsamples = np.unique(Y_test_diag.diag,return_counts=True)\n",
    "    print(\"number of testing samples \" + str(testsamples))\n",
    "\n",
    "    return X_train_diag,X_test_diag,Y_train_diag,Y_test_diag\n",
    "\n",
    "\n",
    "\n",
    "CN = 0\n",
    "SCD = 1\n",
    "MCI = 2\n",
    "AD = 5\n",
    "ADR = 100\n",
    "\n"
   ]
  },
  {
   "cell_type": "markdown",
   "id": "f2ef1071",
   "metadata": {
    "id": "f2ef1071"
   },
   "source": [
    "### CN vs SCD"
   ]
  },
  {
   "cell_type": "code",
   "execution_count": 13,
   "id": "4af901c4",
   "metadata": {
    "id": "4af901c4",
    "outputId": "4c9c8057-98d4-4ead-eedd-1a4609ad2136"
   },
   "outputs": [
    {
     "name": "stderr",
     "output_type": "stream",
     "text": [
      "/tmp/ipykernel_21459/550404812.py:6: SettingWithCopyWarning: \n",
      "A value is trying to be set on a copy of a slice from a DataFrame.\n",
      "Try using .loc[row_indexer,col_indexer] = value instead\n",
      "\n",
      "See the caveats in the documentation: https://pandas.pydata.org/pandas-docs/stable/user_guide/indexing.html#returning-a-view-versus-a-copy\n",
      "  Y_test['diag'] = Y_test['diag'].astype('int')\n",
      "/tmp/ipykernel_21459/550404812.py:7: SettingWithCopyWarning: \n",
      "A value is trying to be set on a copy of a slice from a DataFrame.\n",
      "Try using .loc[row_indexer,col_indexer] = value instead\n",
      "\n",
      "See the caveats in the documentation: https://pandas.pydata.org/pandas-docs/stable/user_guide/indexing.html#returning-a-view-versus-a-copy\n",
      "  Y_train['diag'] = Y_train['diag'].astype('int')\n"
     ]
    },
    {
     "name": "stdout",
     "output_type": "stream",
     "text": [
      "number of training samples (array([0, 1]), array([116, 152]))\n",
      "number of testing samples (array([0, 1]), array([36, 52]))\n",
      " tuning for scoring roc_auc \n",
      "best parameters {'C': 1e-05, 'kernel': 'linear'}\n",
      "cross validation results {'mean_fit_time': array([0.87811074, 0.83981805, 0.81283813, 0.76664844, 0.81409564,\n",
      "       0.77859731, 0.82756548, 0.79253693, 0.83772469, 0.81124735]), 'std_fit_time': array([0.08117702, 0.05159082, 0.0236564 , 0.04229275, 0.0488026 ,\n",
      "       0.03511057, 0.04279419, 0.03616066, 0.04107069, 0.02523524]), 'mean_score_time': array([0.32400193, 0.35180898, 0.32729325, 0.31772933, 0.34742336,\n",
      "       0.31836305, 0.35642424, 0.32143979, 0.34232335, 0.33398919]), 'std_score_time': array([0.01973125, 0.03194793, 0.02138996, 0.00795462, 0.03379337,\n",
      "       0.02004166, 0.03693259, 0.00464723, 0.03086543, 0.02218411]), 'param_C': masked_array(data=[1e-05, 0.00101, 0.00201, 0.00301, 0.00401, 0.00501,\n",
      "                   0.00601, 0.00701, 0.00801, 0.00901],\n",
      "             mask=[False, False, False, False, False, False, False, False,\n",
      "                   False, False],\n",
      "       fill_value='?',\n",
      "            dtype=object), 'param_kernel': masked_array(data=['linear', 'linear', 'linear', 'linear', 'linear',\n",
      "                   'linear', 'linear', 'linear', 'linear', 'linear'],\n",
      "             mask=[False, False, False, False, False, False, False, False,\n",
      "                   False, False],\n",
      "       fill_value='?',\n",
      "            dtype=object), 'params': [{'C': 1e-05, 'kernel': 'linear'}, {'C': 0.00101, 'kernel': 'linear'}, {'C': 0.00201, 'kernel': 'linear'}, {'C': 0.00301, 'kernel': 'linear'}, {'C': 0.00401, 'kernel': 'linear'}, {'C': 0.00501, 'kernel': 'linear'}, {'C': 0.00601, 'kernel': 'linear'}, {'C': 0.00701, 'kernel': 'linear'}, {'C': 0.00801, 'kernel': 'linear'}, {'C': 0.00901, 'kernel': 'linear'}], 'split0_test_score': array([0.60555556, 0.49583333, 0.48055556, 0.47222222, 0.47222222,\n",
      "       0.47222222, 0.47222222, 0.47222222, 0.47222222, 0.47222222]), 'split1_test_score': array([0.59186536, 0.59046283, 0.6002805 , 0.61009818, 0.61009818,\n",
      "       0.61009818, 0.61009818, 0.61009818, 0.61009818, 0.61009818]), 'split2_test_score': array([0.50490884, 0.52033661, 0.50490884, 0.49368864, 0.49368864,\n",
      "       0.49368864, 0.49368864, 0.49368864, 0.49368864, 0.49368864]), 'split3_test_score': array([0.45942029, 0.43188406, 0.39565217, 0.38985507, 0.38985507,\n",
      "       0.38985507, 0.38985507, 0.38985507, 0.38985507, 0.38985507]), 'split4_test_score': array([0.47971014, 0.49710145, 0.47826087, 0.47246377, 0.47246377,\n",
      "       0.47246377, 0.47246377, 0.47246377, 0.47246377, 0.47246377]), 'mean_test_score': array([0.52829204, 0.50712366, 0.49193159, 0.48766558, 0.48766558,\n",
      "       0.48766558, 0.48766558, 0.48766558, 0.48766558, 0.48766558]), 'std_test_score': array([0.05943317, 0.05100767, 0.06556512, 0.07079902, 0.07079902,\n",
      "       0.07079902, 0.07079902, 0.07079902, 0.07079902, 0.07079902]), 'rank_test_score': array([1, 2, 3, 4, 4, 4, 4, 4, 4, 4], dtype=int32)}\n",
      "Best scores  0.5282920367773103\n",
      " F1 score on test set ----  0.438961038961039\n"
     ]
    },
    {
     "data": {
      "image/png": "[encoded data removed]",
      "text/plain": [
       "<Figure size 432x288 with 1 Axes>"
      ]
     },
     "metadata": {
      "needs_background": "light"
     },
     "output_type": "display_data"
    },
    {
     "name": "stdout",
     "output_type": "stream",
     "text": [
      "(array([0, 1]), array([36, 52]))\n"
     ]
    },
    {
     "data": {
      "image/png": "[encoded data removed]",
      "text/plain": [
       "<Figure size 432x288 with 2 Axes>"
      ]
     },
     "metadata": {
      "needs_background": "light"
     },
     "output_type": "display_data"
    },
    {
     "name": "stdout",
     "output_type": "stream",
     "text": [
      " tuning for scoring f1_weighted \n",
      "best parameters {'C': 0.00101, 'kernel': 'linear'}\n",
      "cross validation results {'mean_fit_time': array([0.83288908, 0.77758512, 0.81051264, 0.7841104 , 0.76685386,\n",
      "       0.8247263 , 0.80724597, 0.80821819, 0.81862955, 0.8312777 ]), 'std_fit_time': array([0.02700514, 0.03291342, 0.04049251, 0.0225972 , 0.02931808,\n",
      "       0.07375662, 0.0247512 , 0.03803258, 0.07595558, 0.05447714]), 'mean_score_time': array([0.33542504, 0.32001653, 0.34669585, 0.3300077 , 0.32361288,\n",
      "       0.34772744, 0.32090192, 0.3521069 , 0.32643576, 0.35033956]), 'std_score_time': array([0.0185714 , 0.00788456, 0.03186907, 0.02251545, 0.01918416,\n",
      "       0.01957642, 0.00952626, 0.0354587 , 0.00756153, 0.02886258]), 'param_C': masked_array(data=[1e-05, 0.00101, 0.00201, 0.00301, 0.00401, 0.00501,\n",
      "                   0.00601, 0.00701, 0.00801, 0.00901],\n",
      "             mask=[False, False, False, False, False, False, False, False,\n",
      "                   False, False],\n",
      "       fill_value='?',\n",
      "            dtype=object), 'param_kernel': masked_array(data=['linear', 'linear', 'linear', 'linear', 'linear',\n",
      "                   'linear', 'linear', 'linear', 'linear', 'linear'],\n",
      "             mask=[False, False, False, False, False, False, False, False,\n",
      "                   False, False],\n",
      "       fill_value='?',\n",
      "            dtype=object), 'params': [{'C': 1e-05, 'kernel': 'linear'}, {'C': 0.00101, 'kernel': 'linear'}, {'C': 0.00201, 'kernel': 'linear'}, {'C': 0.00301, 'kernel': 'linear'}, {'C': 0.00401, 'kernel': 'linear'}, {'C': 0.00501, 'kernel': 'linear'}, {'C': 0.00601, 'kernel': 'linear'}, {'C': 0.00701, 'kernel': 'linear'}, {'C': 0.00801, 'kernel': 'linear'}, {'C': 0.00901, 'kernel': 'linear'}], 'split0_test_score': array([0.3968254 , 0.5372549 , 0.51167929, 0.47857254, 0.47857254,\n",
      "       0.47857254, 0.47857254, 0.47857254, 0.47857254, 0.47857254]), 'split1_test_score': array([0.41873638, 0.58001089, 0.60987654, 0.62962963, 0.62962963,\n",
      "       0.62962963, 0.62962963, 0.62962963, 0.62962963, 0.62962963]), 'split2_test_score': array([0.41873638, 0.4940966 , 0.51509891, 0.51509891, 0.51509891,\n",
      "       0.51509891, 0.51509891, 0.51509891, 0.51509891, 0.51509891]), 'split3_test_score': array([0.40918391, 0.48492447, 0.4133897 , 0.43022741, 0.43022741,\n",
      "       0.43022741, 0.43022741, 0.43022741, 0.43022741, 0.43022741]), 'split4_test_score': array([0.40918391, 0.52932251, 0.47359575, 0.43638814, 0.43638814,\n",
      "       0.43638814, 0.43638814, 0.43638814, 0.43638814, 0.43638814]), 'mean_test_score': array([0.41053319, 0.52512187, 0.50472804, 0.49798333, 0.49798333,\n",
      "       0.49798333, 0.49798333, 0.49798333, 0.49798333, 0.49798333]), 'std_test_score': array([0.00807626, 0.03392951, 0.06406871, 0.07264338, 0.07264338,\n",
      "       0.07264338, 0.07264338, 0.07264338, 0.07264338, 0.07264338]), 'rank_test_score': array([10,  1,  2,  3,  3,  3,  3,  3,  3,  3], dtype=int32)}\n",
      "Best scores  0.5251218744174585\n",
      " F1 score on test set ----  0.5193655901620503\n"
     ]
    },
    {
     "data": {
      "image/png": "[encoded data removed]",
      "text/plain": [
       "<Figure size 432x288 with 1 Axes>"
      ]
     },
     "metadata": {
      "needs_background": "light"
     },
     "output_type": "display_data"
    },
    {
     "name": "stdout",
     "output_type": "stream",
     "text": [
      "(array([0, 1]), array([36, 52]))\n"
     ]
    },
    {
     "data": {
      "image/png": "[encoded data removed]",
      "text/plain": [
       "<Figure size 432x288 with 2 Axes>"
      ]
     },
     "metadata": {
      "needs_background": "light"
     },
     "output_type": "display_data"
    }
   ],
   "source": [
    "X_train_diag,X_test_diag,Y_train_diag,Y_test_diag = make_train_test_diag_split(CN,SCD)\n",
    "from sklearn.metrics import make_scorer,roc_auc_score,f1_score\n",
    "from sklearn.model_selection import StratifiedKFold\n",
    "#Create a svm Classifier\n",
    "parameters = {'kernel':['linear'], 'C': [i for i in np.arange(0.00001,.01,0.001)]}\n",
    "\n",
    "svc = svm.SVC()\n",
    "for score in scoring:\n",
    "    print( \" tuning for scoring %s \" % score)\n",
    "    clf = GridSearchCV(svc, parameters,cv=StratifiedKFold(5,shuffle=True,random_state=55),refit=True,scoring=\"%s\" % score)\n",
    "\n",
    "    #y_score = clf.fit(X_train, Y_train.sex).decision_function(X_test)\n",
    "    clf.fit(X_train_diag, Y_train_diag.diag)\n",
    "    print(\"best parameters\", clf.best_params_)\n",
    "    print(\"cross validation results\", clf.cv_results_)\n",
    "    print(\"Best scores \", clf.best_score_)\n",
    "    y_pred = clf.predict(X_test_diag)\n",
    "    print(\" F1 score on test set ---- \" , f1_score(Y_test_diag.diag, y_pred, average='weighted'))\n",
    "    plotting_roc_auc_curve(Y_test_diag.diag,y_pred)\n",
    "    create_confusion_matrix(Y_test_diag.diag,y_pred,clf)"
   ]
  },
  {
   "cell_type": "markdown",
   "id": "21891025",
   "metadata": {
    "id": "21891025"
   },
   "source": [
    "### CN vs MCI"
   ]
  },
  {
   "cell_type": "code",
   "execution_count": 14,
   "id": "fb5d654a",
   "metadata": {
    "id": "fb5d654a",
    "outputId": "5231c966-d48b-44fd-9415-29377b382819"
   },
   "outputs": [
    {
     "name": "stderr",
     "output_type": "stream",
     "text": [
      "/tmp/ipykernel_21459/550404812.py:6: SettingWithCopyWarning: \n",
      "A value is trying to be set on a copy of a slice from a DataFrame.\n",
      "Try using .loc[row_indexer,col_indexer] = value instead\n",
      "\n",
      "See the caveats in the documentation: https://pandas.pydata.org/pandas-docs/stable/user_guide/indexing.html#returning-a-view-versus-a-copy\n",
      "  Y_test['diag'] = Y_test['diag'].astype('int')\n",
      "/tmp/ipykernel_21459/550404812.py:7: SettingWithCopyWarning: \n",
      "A value is trying to be set on a copy of a slice from a DataFrame.\n",
      "Try using .loc[row_indexer,col_indexer] = value instead\n",
      "\n",
      "See the caveats in the documentation: https://pandas.pydata.org/pandas-docs/stable/user_guide/indexing.html#returning-a-view-versus-a-copy\n",
      "  Y_train['diag'] = Y_train['diag'].astype('int')\n"
     ]
    },
    {
     "name": "stdout",
     "output_type": "stream",
     "text": [
      "number of training samples (array([0, 1]), array([116,  48]))\n",
      "number of testing samples (array([0, 1]), array([36, 17]))\n",
      " tuning for scoring f1_weighted \n",
      "best parameters {'C': 0.00301, 'kernel': 'linear'}\n",
      "cross validation results {'mean_fit_time': array([0.49828963, 0.54590278, 0.50596871, 0.50300674, 0.50246177,\n",
      "       0.52007351, 0.492946  , 0.46361303, 0.46937294, 0.46165724]), 'std_fit_time': array([0.01939081, 0.05496496, 0.02726068, 0.01506623, 0.02204433,\n",
      "       0.00996011, 0.0096555 , 0.01331749, 0.01268698, 0.01199446]), 'mean_score_time': array([0.29130745, 0.29000378, 0.28000226, 0.27104549, 0.27849855,\n",
      "       0.26947699, 0.27361431, 0.25848513, 0.26829424, 0.27040086]), 'std_score_time': array([0.00970301, 0.01916279, 0.01326739, 0.01219643, 0.01114557,\n",
      "       0.00811146, 0.02283234, 0.00585375, 0.00628779, 0.01230561]), 'param_C': masked_array(data=[1e-05, 0.00101, 0.00201, 0.00301, 0.00401, 0.00501,\n",
      "                   0.00601, 0.00701, 0.00801, 0.00901],\n",
      "             mask=[False, False, False, False, False, False, False, False,\n",
      "                   False, False],\n",
      "       fill_value='?',\n",
      "            dtype=object), 'param_kernel': masked_array(data=['linear', 'linear', 'linear', 'linear', 'linear',\n",
      "                   'linear', 'linear', 'linear', 'linear', 'linear'],\n",
      "             mask=[False, False, False, False, False, False, False, False,\n",
      "                   False, False],\n",
      "       fill_value='?',\n",
      "            dtype=object), 'params': [{'C': 1e-05, 'kernel': 'linear'}, {'C': 0.00101, 'kernel': 'linear'}, {'C': 0.00201, 'kernel': 'linear'}, {'C': 0.00301, 'kernel': 'linear'}, {'C': 0.00401, 'kernel': 'linear'}, {'C': 0.00501, 'kernel': 'linear'}, {'C': 0.00601, 'kernel': 'linear'}, {'C': 0.00701, 'kernel': 'linear'}, {'C': 0.00801, 'kernel': 'linear'}, {'C': 0.00901, 'kernel': 'linear'}], 'split0_test_score': array([0.61244019, 0.66533467, 0.70802139, 0.70802139, 0.70802139,\n",
      "       0.70802139, 0.70802139, 0.70802139, 0.70802139, 0.70802139]), 'split1_test_score': array([0.57251082, 0.7369697 , 0.78455326, 0.78455326, 0.78455326,\n",
      "       0.78455326, 0.78455326, 0.78455326, 0.78455326, 0.78455326]), 'split2_test_score': array([0.57251082, 0.64951715, 0.64745898, 0.64745898, 0.64745898,\n",
      "       0.64745898, 0.64745898, 0.64745898, 0.64745898, 0.64745898]), 'split3_test_score': array([0.57251082, 0.58336062, 0.53832841, 0.53832841, 0.53832841,\n",
      "       0.53832841, 0.53832841, 0.53832841, 0.53832841, 0.53832841]), 'split4_test_score': array([0.60113636, 0.55288462, 0.58642857, 0.67447917, 0.67447917,\n",
      "       0.67447917, 0.67447917, 0.67447917, 0.67447917, 0.67447917]), 'mean_test_score': array([0.5862218 , 0.63761335, 0.65295812, 0.67056824, 0.67056824,\n",
      "       0.67056824, 0.67056824, 0.67056824, 0.67056824, 0.67056824]), 'std_test_score': array([0.0171687 , 0.06465937, 0.0871156 , 0.08053822, 0.08053822,\n",
      "       0.08053822, 0.08053822, 0.08053822, 0.08053822, 0.08053822]), 'rank_test_score': array([10,  9,  8,  1,  1,  1,  1,  1,  1,  1], dtype=int32)}\n",
      "Best scores  0.6705682425800413\n",
      " F1 score on test set ----  0.6466732869910627\n"
     ]
    },
    {
     "data": {
      "image/png": "[encoded data removed]",
      "text/plain": [
       "<Figure size 432x288 with 1 Axes>"
      ]
     },
     "metadata": {
      "needs_background": "light"
     },
     "output_type": "display_data"
    },
    {
     "name": "stdout",
     "output_type": "stream",
     "text": [
      "(array([0, 1]), array([36, 17]))\n"
     ]
    },
    {
     "data": {
      "image/png": "[encoded data removed]",
      "text/plain": [
       "<Figure size 432x288 with 2 Axes>"
      ]
     },
     "metadata": {
      "needs_background": "light"
     },
     "output_type": "display_data"
    }
   ],
   "source": [
    "X_train_diag,X_test_diag,Y_train_diag,Y_test_diag = make_train_test_diag_split(CN,MCI)\n",
    "\n",
    "\n",
    "#Create a svm Classifier\n",
    "svc = svm.SVC(tol=0.00000001)\n",
    "scoring = ['f1_weighted']\n",
    "parameters = {'kernel':['linear'], 'C': [i for i in np.arange(0.00001,.01,0.001)]}\n",
    "\n",
    "#Create a svm Classifier\n",
    "svc = svm.SVC(cache_size=10000)\n",
    "parameters = {'kernel':['linear'], 'C': [i for i in np.arange(0.00001,.01,0.001)]}\n",
    "\n",
    "for score in scoring:\n",
    "    print( \" tuning for scoring %s \" % score)\n",
    "    clf = GridSearchCV(svc, parameters,cv=StratifiedKFold(5,shuffle=True,random_state=55),refit=True,scoring=\"%s\" % score)\n",
    "\n",
    "    #y_score = clf.fit(X_train, Y_train.sex).decision_function(X_test)\n",
    "    clf.fit(X_train_diag, Y_train_diag.diag)\n",
    "    print(\"best parameters\", clf.best_params_)\n",
    "    print(\"cross validation results\", clf.cv_results_)\n",
    "    print(\"Best scores \", clf.best_score_)\n",
    "    y_pred = clf.predict(X_test_diag)\n",
    "    print(\" F1 score on test set ---- \" , f1_score(Y_test_diag.diag, y_pred, average='weighted'))\n",
    "\n",
    "    plotting_roc_auc_curve(Y_test_diag.diag,y_pred)\n",
    "    create_confusion_matrix(Y_test_diag.diag,y_pred,clf)"
   ]
  },
  {
   "cell_type": "markdown",
   "id": "bdea5af8",
   "metadata": {
    "id": "bdea5af8"
   },
   "source": [
    "### CN vs AD"
   ]
  },
  {
   "cell_type": "code",
   "execution_count": 15,
   "id": "707a0404",
   "metadata": {
    "id": "707a0404",
    "outputId": "6521c8be-1070-4303-d20e-3a817bbd2bad"
   },
   "outputs": [
    {
     "name": "stderr",
     "output_type": "stream",
     "text": [
      "/tmp/ipykernel_21459/550404812.py:6: SettingWithCopyWarning: \n",
      "A value is trying to be set on a copy of a slice from a DataFrame.\n",
      "Try using .loc[row_indexer,col_indexer] = value instead\n",
      "\n",
      "See the caveats in the documentation: https://pandas.pydata.org/pandas-docs/stable/user_guide/indexing.html#returning-a-view-versus-a-copy\n",
      "  Y_test['diag'] = Y_test['diag'].astype('int')\n",
      "/tmp/ipykernel_21459/550404812.py:7: SettingWithCopyWarning: \n",
      "A value is trying to be set on a copy of a slice from a DataFrame.\n",
      "Try using .loc[row_indexer,col_indexer] = value instead\n",
      "\n",
      "See the caveats in the documentation: https://pandas.pydata.org/pandas-docs/stable/user_guide/indexing.html#returning-a-view-versus-a-copy\n",
      "  Y_train['diag'] = Y_train['diag'].astype('int')\n"
     ]
    },
    {
     "name": "stdout",
     "output_type": "stream",
     "text": [
      "number of training samples (array([0, 1]), array([116,  17]))\n",
      "number of testing samples (array([0, 1]), array([36,  4]))\n",
      " tuning for scoring f1_weighted \n",
      "best parameters {'C': 0.00201, 'kernel': 'linear'}\n",
      "cross validation results {'mean_fit_time': array([0.39195771, 0.37389278, 0.39225569, 0.40223994, 0.38221402,\n",
      "       0.39048033, 0.37011437, 0.37385478, 0.36436329, 0.3691987 ]), 'std_fit_time': array([0.02042308, 0.01205753, 0.01608776, 0.04040873, 0.01524427,\n",
      "       0.01725431, 0.00971691, 0.00510854, 0.00897373, 0.00750517]), 'mean_score_time': array([0.29435935, 0.25877218, 0.26340952, 0.25962367, 0.25254636,\n",
      "       0.25430889, 0.24528704, 0.2514163 , 0.24517727, 0.24935675]), 'std_score_time': array([0.02986759, 0.00592556, 0.01677285, 0.00804139, 0.00851658,\n",
      "       0.00390963, 0.00340453, 0.00282877, 0.00497248, 0.00462795]), 'param_C': masked_array(data=[1e-05, 0.00101, 0.00201, 0.00301, 0.00401, 0.00501,\n",
      "                   0.00601, 0.00701, 0.00801, 0.00901],\n",
      "             mask=[False, False, False, False, False, False, False, False,\n",
      "                   False, False],\n",
      "       fill_value='?',\n",
      "            dtype=object), 'param_kernel': masked_array(data=['linear', 'linear', 'linear', 'linear', 'linear',\n",
      "                   'linear', 'linear', 'linear', 'linear', 'linear'],\n",
      "             mask=[False, False, False, False, False, False, False, False,\n",
      "                   False, False],\n",
      "       fill_value='?',\n",
      "            dtype=object), 'params': [{'C': 1e-05, 'kernel': 'linear'}, {'C': 0.00101, 'kernel': 'linear'}, {'C': 0.00201, 'kernel': 'linear'}, {'C': 0.00301, 'kernel': 'linear'}, {'C': 0.00401, 'kernel': 'linear'}, {'C': 0.00501, 'kernel': 'linear'}, {'C': 0.00601, 'kernel': 'linear'}, {'C': 0.00701, 'kernel': 'linear'}, {'C': 0.00801, 'kernel': 'linear'}, {'C': 0.00901, 'kernel': 'linear'}], 'split0_test_score': array([0.83660131, 0.90888889, 0.85185185, 0.85185185, 0.85185185,\n",
      "       0.85185185, 0.85185185, 0.85185185, 0.85185185, 0.85185185]), 'split1_test_score': array([0.7837037 , 0.7837037 , 0.85895692, 0.85895692, 0.85895692,\n",
      "       0.85895692, 0.85895692, 0.85895692, 0.85895692, 0.85895692]), 'split2_test_score': array([0.7837037 , 0.7837037 , 0.76492819, 0.76492819, 0.76492819,\n",
      "       0.76492819, 0.76492819, 0.76492819, 0.76492819, 0.76492819]), 'split3_test_score': array([0.83045526, 0.83045526, 0.81089744, 0.81089744, 0.81089744,\n",
      "       0.81089744, 0.81089744, 0.81089744, 0.81089744, 0.81089744]), 'split4_test_score': array([0.83045526, 0.83045526, 0.90544872, 0.90544872, 0.90544872,\n",
      "       0.90544872, 0.90544872, 0.90544872, 0.90544872, 0.90544872]), 'mean_test_score': array([0.81298385, 0.82744136, 0.83841662, 0.83841662, 0.83841662,\n",
      "       0.83841662, 0.83841662, 0.83841662, 0.83841662, 0.83841662]), 'std_test_score': array([0.02401224, 0.04577736, 0.04744168, 0.04744168, 0.04744168,\n",
      "       0.04744168, 0.04744168, 0.04744168, 0.04744168, 0.04744168]), 'rank_test_score': array([10,  9,  1,  1,  1,  1,  1,  1,  1,  1], dtype=int32)}\n",
      "Best scores  0.8384166230594803\n",
      " F1 score on test set ----  0.827027027027027\n"
     ]
    },
    {
     "data": {
      "image/png": "[encoded data removed]",
      "text/plain": [
       "<Figure size 432x288 with 1 Axes>"
      ]
     },
     "metadata": {
      "needs_background": "light"
     },
     "output_type": "display_data"
    },
    {
     "name": "stdout",
     "output_type": "stream",
     "text": [
      "(array([0, 1]), array([36,  4]))\n"
     ]
    },
    {
     "data": {
      "image/png": "[encoded data removed]",
      "text/plain": [
       "<Figure size 432x288 with 2 Axes>"
      ]
     },
     "metadata": {
      "needs_background": "light"
     },
     "output_type": "display_data"
    }
   ],
   "source": [
    "X_train_diag,X_test_diag,Y_train_diag,Y_test_diag = make_train_test_diag_split(CN,AD)\n",
    "\n",
    "#Create a svm Classifier\n",
    "svc = svm.SVC()\n",
    "parameters = {'kernel':['linear'], 'C': [i for i in np.arange(0.00001,.01,0.001)]}\n",
    "\n",
    "for score in scoring:\n",
    "    print( \" tuning for scoring %s \" % score)\n",
    "    clf = GridSearchCV(svc, parameters,cv=StratifiedKFold(5,shuffle=True,random_state=55),refit=True,scoring=\"%s\" % score)\n",
    "\n",
    "    #y_score = clf.fit(X_train, Y_train.sex).decision_function(X_test)\n",
    "    clf.fit(X_train_diag, Y_train_diag.diag)\n",
    "    print(\"best parameters\", clf.best_params_)\n",
    "    print(\"cross validation results\", clf.cv_results_)\n",
    "    print(\"Best scores \", clf.best_score_)\n",
    "    y_pred = clf.predict(X_test_diag)\n",
    "    print(\" F1 score on test set ---- \" , f1_score(Y_test_diag.diag, y_pred, average='weighted'))\n",
    "\n",
    "    plotting_roc_auc_curve(Y_test_diag.diag,y_pred)\n",
    "    create_confusion_matrix(Y_test_diag.diag,y_pred,clf)"
   ]
  },
  {
   "cell_type": "markdown",
   "id": "79714264",
   "metadata": {
    "id": "79714264"
   },
   "source": [
    "### CN vs ADR"
   ]
  },
  {
   "cell_type": "code",
   "execution_count": 16,
   "id": "696cc32d",
   "metadata": {
    "id": "696cc32d",
    "outputId": "381dbe60-3e9f-4643-b1c4-a0b98d27698a"
   },
   "outputs": [
    {
     "name": "stderr",
     "output_type": "stream",
     "text": [
      "/tmp/ipykernel_21459/550404812.py:6: SettingWithCopyWarning: \n",
      "A value is trying to be set on a copy of a slice from a DataFrame.\n",
      "Try using .loc[row_indexer,col_indexer] = value instead\n",
      "\n",
      "See the caveats in the documentation: https://pandas.pydata.org/pandas-docs/stable/user_guide/indexing.html#returning-a-view-versus-a-copy\n",
      "  Y_test['diag'] = Y_test['diag'].astype('int')\n",
      "/tmp/ipykernel_21459/550404812.py:7: SettingWithCopyWarning: \n",
      "A value is trying to be set on a copy of a slice from a DataFrame.\n",
      "Try using .loc[row_indexer,col_indexer] = value instead\n",
      "\n",
      "See the caveats in the documentation: https://pandas.pydata.org/pandas-docs/stable/user_guide/indexing.html#returning-a-view-versus-a-copy\n",
      "  Y_train['diag'] = Y_train['diag'].astype('int')\n"
     ]
    },
    {
     "name": "stdout",
     "output_type": "stream",
     "text": [
      "number of training samples (array([0, 1]), array([116,  36]))\n",
      "number of testing samples (array([0, 1]), array([36, 15]))\n",
      " tuning for scoring f1_weighted \n",
      "best parameters {'C': 1e-05, 'kernel': 'linear'}\n",
      "cross validation results {'mean_fit_time': array([0.42988915, 0.42946963, 0.4197072 , 0.41146431, 0.42097301,\n",
      "       0.42258849, 0.44320636, 0.46002011, 0.44431143, 0.49237924]), 'std_fit_time': array([0.01151365, 0.01794785, 0.01325653, 0.00588354, 0.01246334,\n",
      "       0.00793302, 0.0142493 , 0.03305497, 0.00653831, 0.0725014 ]), 'mean_score_time': array([0.2637454 , 0.26296597, 0.25331631, 0.25336299, 0.25557389,\n",
      "       0.26052523, 0.28179917, 0.2872407 , 0.26505165, 0.2783133 ]), 'std_score_time': array([0.01258337, 0.0106915 , 0.00362472, 0.0040418 , 0.00424673,\n",
      "       0.00725328, 0.01739123, 0.02755605, 0.01079578, 0.01660025]), 'param_C': masked_array(data=[1e-05, 0.00101, 0.00201, 0.00301, 0.00401, 0.00501,\n",
      "                   0.00601, 0.00701, 0.00801, 0.00901],\n",
      "             mask=[False, False, False, False, False, False, False, False,\n",
      "                   False, False],\n",
      "       fill_value='?',\n",
      "            dtype=object), 'param_kernel': masked_array(data=['linear', 'linear', 'linear', 'linear', 'linear',\n",
      "                   'linear', 'linear', 'linear', 'linear', 'linear'],\n",
      "             mask=[False, False, False, False, False, False, False, False,\n",
      "                   False, False],\n",
      "       fill_value='?',\n",
      "            dtype=object), 'params': [{'C': 1e-05, 'kernel': 'linear'}, {'C': 0.00101, 'kernel': 'linear'}, {'C': 0.00201, 'kernel': 'linear'}, {'C': 0.00301, 'kernel': 'linear'}, {'C': 0.00401, 'kernel': 'linear'}, {'C': 0.00501, 'kernel': 'linear'}, {'C': 0.00601, 'kernel': 'linear'}, {'C': 0.00701, 'kernel': 'linear'}, {'C': 0.00801, 'kernel': 'linear'}, {'C': 0.00901, 'kernel': 'linear'}], 'split0_test_score': array([0.67565982, 0.67862688, 0.65698925, 0.65698925, 0.65698925,\n",
      "       0.65698925, 0.65698925, 0.65698925, 0.65698925, 0.65698925]), 'split1_test_score': array([0.63201912, 0.59925558, 0.59925558, 0.59925558, 0.59925558,\n",
      "       0.59925558, 0.59925558, 0.59925558, 0.59925558, 0.59925558]), 'split2_test_score': array([0.66540881, 0.63137255, 0.63137255, 0.63137255, 0.63137255,\n",
      "       0.63137255, 0.63137255, 0.63137255, 0.63137255, 0.63137255]), 'split3_test_score': array([0.66540881, 0.63137255, 0.59455782, 0.59455782, 0.59455782,\n",
      "       0.59455782, 0.59455782, 0.59455782, 0.59455782, 0.59455782]), 'split4_test_score': array([0.66540881, 0.73653846, 0.66827458, 0.66827458, 0.66827458,\n",
      "       0.66827458, 0.66827458, 0.66827458, 0.66827458, 0.66827458]), 'mean_test_score': array([0.66078107, 0.6554332 , 0.63008996, 0.63008996, 0.63008996,\n",
      "       0.63008996, 0.63008996, 0.63008996, 0.63008996, 0.63008996]), 'std_test_score': array([0.01491895, 0.04781164, 0.02965324, 0.02965324, 0.02965324,\n",
      "       0.02965324, 0.02965324, 0.02965324, 0.02965324, 0.02965324]), 'rank_test_score': array([1, 2, 3, 3, 3, 3, 3, 3, 3, 3], dtype=int32)}\n",
      "Best scores  0.6607810710062688\n",
      " F1 score on test set ----  0.5841784989858012\n"
     ]
    },
    {
     "data": {
      "image/png": "[encoded data removed]",
      "text/plain": [
       "<Figure size 432x288 with 1 Axes>"
      ]
     },
     "metadata": {
      "needs_background": "light"
     },
     "output_type": "display_data"
    },
    {
     "name": "stdout",
     "output_type": "stream",
     "text": [
      "(array([0, 1]), array([36, 15]))\n"
     ]
    },
    {
     "data": {
      "image/png": "[encoded data removed]",
      "text/plain": [
       "<Figure size 432x288 with 2 Axes>"
      ]
     },
     "metadata": {
      "needs_background": "light"
     },
     "output_type": "display_data"
    }
   ],
   "source": [
    "X_train_diag,X_test_diag,Y_train_diag,Y_test_diag = make_train_test_diag_split(CN,ADR)\n",
    "\n",
    "#Create a svm Classifier\n",
    "svc = svm.SVC()\n",
    "for score in scoring:\n",
    "    print( \" tuning for scoring %s \" % score)\n",
    "    clf = GridSearchCV(svc, parameters,cv=StratifiedKFold(5,shuffle=True,random_state=55),refit=True,scoring=\"%s\" % score)\n",
    "\n",
    "    #y_score = clf.fit(X_train, Y_train.sex).decision_function(X_test)\n",
    "    clf.fit(X_train_diag, Y_train_diag.diag)\n",
    "    print(\"best parameters\", clf.best_params_)\n",
    "    print(\"cross validation results\", clf.cv_results_)\n",
    "    print(\"Best scores \", clf.best_score_)\n",
    "    y_pred = clf.predict(X_test_diag)\n",
    "    print(\" F1 score on test set ---- \" , f1_score(Y_test_diag.diag, y_pred, average='weighted'))\n",
    "\n",
    "    plotting_roc_auc_curve(Y_test_diag.diag,y_pred)\n",
    "    create_confusion_matrix(Y_test_diag.diag,y_pred,clf)"
   ]
  }
 ],
 "metadata": {
  "colab": {
   "name": "svm(1)_(1)(2)(1).ipynb",
   "provenance": []
  },
  "kernelspec": {
   "display_name": "Python 3 (ipykernel)",
   "language": "python",
   "name": "python3"
  },
  "language_info": {
   "codemirror_mode": {
    "name": "ipython",
    "version": 3
   },
   "file_extension": ".py",
   "mimetype": "text/x-python",
   "name": "python",
   "nbconvert_exporter": "python",
   "pygments_lexer": "ipython3",
   "version": "3.9.7"
  }
 },
 "nbformat": 4,
 "nbformat_minor": 5
}
