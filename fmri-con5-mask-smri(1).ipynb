{
 "cells": [
  {
   "cell_type": "code",
   "execution_count": 1,
   "id": "2b57502d",
   "metadata": {
    "id": "2b57502d",
    "outputId": "9fb42d01-3a93-424c-80ce-d6c698a3fc78"
   },
   "outputs": [
    {
     "name": "stderr",
     "output_type": "stream",
     "text": [
      "/home/kadajji/anaconda3/lib/python3.9/site-packages/nilearn/input_data/__init__.py:27: FutureWarning: The import path 'nilearn.input_data' is deprecated in version 0.9. Importing from 'nilearn.input_data' will be possible at least until release 0.13.0. Please import from 'nilearn.maskers' instead.\n",
      "  warnings.warn(message, FutureWarning)\n"
     ]
    }
   ],
   "source": [
    "#Redo for the bug mci+ad                            mci vs cn             ad vs cn\n",
    "\"\"\"\n",
    "pyder Editor\n",
    "\n",
    "This is a temporary script file.\n",
    "\"\"\"\n",
    "\n",
    "import os\n",
    "import numpy as np\n",
    "import nibabel as nib\n",
    "import pandas as pd\n",
    "from sklearn.svm import OneClassSVM\n",
    "from nilearn.input_data import MultiNiftiMasker\n",
    "import array as arr\n",
    "from sklearn.model_selection import ShuffleSplit\n",
    "from sklearn import svm\n",
    "from sklearn.model_selection import cross_val_score\n",
    "import scipy.io as spio\n",
    "import pandas as pd\n",
    "import scipy.ndimage as ndimage\n",
    "from scipy import misc\n",
    "from datetime import datetime\n",
    "import re\n",
    "import numpy as np\n",
    "import matplotlib.pyplot as plt\n",
    "from itertools import cycle\n",
    "from sklearn.metrics import ConfusionMatrixDisplay\n",
    "\n",
    "from sklearn import svm, datasets\n",
    "from sklearn.metrics import roc_curve, auc\n",
    "from sklearn.model_selection import train_test_split\n",
    "from sklearn.preprocessing import label_binarize\n",
    "from sklearn.multiclass import OneVsRestClassifier\n",
    "from sklearn.metrics import roc_auc_score\n",
    "\n",
    "import matplotlib.pyplot as plt\n",
    "from sklearn.datasets import make_classification\n",
    "from sklearn.metrics import confusion_matrix, ConfusionMatrixDisplay\n",
    "from sklearn.model_selection import train_test_split\n",
    "from sklearn.svm import SVC\n",
    "\n",
    "from sklearn.model_selection import train_test_split\n",
    "from sklearn import svm\n",
    "from sklearn import metrics"
   ]
  },
  {
   "cell_type": "code",
   "execution_count": 2,
   "id": "6410693c",
   "metadata": {
    "id": "6410693c"
   },
   "outputs": [],
   "source": [
    "#### modify the path here\n",
    "absolute_path = '/home/kadajji/hydra-work/DELCODE_fMRI_GLMs_parametric/data/M0/glm/'\n",
    "data_path = 'con0005_csf/'\n",
    "\n",
    "regex_filter = 'wp1_*'\n",
    "delcode_cov = '/home/kadajji/hydra-work/delcode_cov1079.mat'"
   ]
  },
  {
   "cell_type": "code",
   "execution_count": 3,
   "id": "ae48c480",
   "metadata": {
    "id": "ae48c480"
   },
   "outputs": [],
   "source": [
    "def create_confusion_matrix(test_label ,prediction, classifier):\n",
    "    print(np.unique(test_label,return_counts=True))\n",
    "    cm = confusion_matrix(test_label, prediction, labels=classifier.classes_)\n",
    "    disp = ConfusionMatrixDisplay(confusion_matrix=cm,\n",
    "                                  display_labels=clf.classes_)\n",
    "    disp.plot()\n",
    "\n",
    "    plt.show()"
   ]
  },
  {
   "cell_type": "code",
   "execution_count": 4,
   "id": "dda7db94",
   "metadata": {
    "id": "dda7db94"
   },
   "outputs": [],
   "source": [
    "\n",
    "def plotting_roc_auc_curve(test_label, prediction):\n",
    "    false_Positive_Rate, true_positive_rate, thresholds = metrics.roc_curve(test_label, prediction)\n",
    "    roc_auc = metrics.auc(false_Positive_Rate, true_positive_rate)\n",
    "    display = metrics.RocCurveDisplay(fpr=false_Positive_Rate, tpr=true_positive_rate, roc_auc=roc_auc,\n",
    "                                      estimator_name='SVM')\n",
    "    display.plot()\n",
    "\n",
    "    plt.show()"
   ]
  },
  {
   "cell_type": "code",
   "execution_count": 5,
   "id": "1c88577b",
   "metadata": {
    "id": "1c88577b"
   },
   "outputs": [],
   "source": [
    "def read_nifti(absolute_path, data_path, regex_filter, mask=\"/home/kadajji/hydra-work/DELCODE_fMRI_GLMs_parametric/data/M0/glm/temp/mask01.nii\", smooth=None):\n",
    "     start_time = datetime.now()\n",
    "     absolute_path = str(absolute_path)\n",
    "     regex_filter = str(regex_filter)\n",
    "     if(mask):\n",
    "         #mask = absolute_path + str(mask)\n",
    "         niftimasker = MultiNiftiMasker(mask_img=mask, smoothing_fwhm=smooth, n_jobs=-2)\n",
    "     else:\n",
    "        niftimasker = MultiNiftiMasker(smoothing_fwhm=smooth, n_jobs=-2)\n",
    "     # mask images and get data\n",
    "     data_folder = absolute_path + str(data_path)\n",
    "     list_path = []\n",
    "     subjs = []\n",
    "     for files in os.listdir(data_folder):\n",
    "         if re.match(regex_filter, files):\n",
    "             image_path = data_folder + files\n",
    "             list_path.append(image_path)\n",
    "             subject_name = os.path.basename(files).split('_')[3]\n",
    "             subject_name = os.path.basename(subject_name).split('.')[0]\n",
    "             subjs.append(subject_name)\n",
    "     print(\"Reading \"+ regex_filter +\" volume data please wait.........\")\n",
    "     \n",
    "     list_path = np.sort(list_path)\n",
    "     subjs = np.sort(subjs)\n",
    "     x = niftimasker.fit_transform(list_path)\n",
    "     x = np.vstack(x)\n",
    "     subjects_id  = pd.DataFrame()\n",
    "     subjects_id['subjs'] = subjs\n",
    "     data_matrix = pd.DataFrame(x, dtype='float64')\n",
    "     end_time = datetime.now()\n",
    "     time = end_time-start_time\n",
    "     print(\"Total time in minutes :\", float(time.total_seconds()/60))\n",
    "     return data_matrix, subjects_id"
   ]
  },
  {
   "cell_type": "code",
   "execution_count": 6,
   "id": "82ed44ac",
   "metadata": {
    "id": "82ed44ac"
   },
   "outputs": [],
   "source": [
    "def get_data_mat(mat_url):\n",
    "     dat = spio.loadmat(mat_url, squeeze_me=True)\n",
    "     demo = dat['Demo']\n",
    "     body = dat['Body']\n",
    "     gen = dat['Gen']\n",
    "     csf = dat['Csf']\n",
    "     cog = dat['Cog']\n",
    "     vol = dat['Vol']\n",
    "     cog = cog['X'][()]\n",
    "     csf = csf['X'][()]\n",
    "     delcode_data = pd.DataFrame()\n",
    "     delcode_data['subjs'] = dat['IDs'][()]\n",
    "     delcode_data['id'] = demo['IDn'][()]\n",
    "     delcode_data['age'] = demo['age_bl'][()]\n",
    "     delcode_data['bmi'] = body['bmi'][()]\n",
    "     delcode_data['diag'] = demo['diag_bl'][()]\n",
    "     delcode_data['sex'] = demo['sex'][()]\n",
    "     delcode_data['edu'] = demo['edu'][()]\n",
    "     delcode_data['fmem'] = cog[:,21]\n",
    "     return delcode_data"
   ]
  },
  {
   "cell_type": "code",
   "execution_count": 7,
   "id": "35ee235a",
   "metadata": {
    "id": "35ee235a",
    "outputId": "8991f2d5-2c36-4db9-e9cd-27998f0f9b6f"
   },
   "outputs": [
    {
     "name": "stdout",
     "output_type": "stream",
     "text": [
      "Reading wp1_* volume data please wait.........\n",
      "Total time in minutes : 0.15680738333333333\n"
     ]
    }
   ],
   "source": [
    "data, subjects = read_nifti(absolute_path, data_path, regex_filter)"
   ]
  },
  {
   "cell_type": "code",
   "execution_count": 8,
   "id": "a288bc2f",
   "metadata": {
    "id": "a288bc2f"
   },
   "outputs": [],
   "source": [
    "delcode_data = get_data_mat(delcode_cov)\n",
    "subjects['age'] = subjects.subjs.map(delcode_data.set_index('subjs')['age'])\n",
    "subjects['edu'] = subjects.subjs.map(delcode_data.set_index('subjs')['edu'])\n",
    "subjects['sex'] = subjects.subjs.map(delcode_data.set_index('subjs')['sex'])\n",
    "subjects['diag'] = subjects.subjs.map(delcode_data.set_index('subjs')['diag'])"
   ]
  },
  {
   "cell_type": "code",
   "execution_count": 9,
   "id": "da378984",
   "metadata": {
    "id": "da378984"
   },
   "outputs": [],
   "source": [
    "subjects = subjects.dropna()"
   ]
  },
  {
   "cell_type": "code",
   "execution_count": 10,
   "id": "82fd94b3",
   "metadata": {
    "id": "82fd94b3",
    "outputId": "e47c0c14-5ddd-4db9-a5fb-539262a54ca1"
   },
   "outputs": [
    {
     "data": {
      "text/plain": [
       "493"
      ]
     },
     "execution_count": 10,
     "metadata": {},
     "output_type": "execute_result"
    }
   ],
   "source": [
    "len(subjects)"
   ]
  },
  {
   "cell_type": "markdown",
   "id": "d2465331",
   "metadata": {
    "id": "d2465331"
   },
   "source": [
    "#### todo write with crossvalidation"
   ]
  },
  {
   "cell_type": "code",
   "execution_count": 11,
   "id": "c53c0183",
   "metadata": {
    "id": "c53c0183"
   },
   "outputs": [],
   "source": [
    "from sklearn.metrics import recall_score\n",
    "from sklearn.model_selection import cross_validate\n",
    "from sklearn.model_selection import GridSearchCV\n",
    "from sklearn.metrics import f1_score, make_scorer\n",
    "\n",
    "scoring = ['roc_auc','f1_weighted']\n",
    "parameters = {'kernel':['linear','rbf'], 'C': [i for i in np.arange(0.00001,.01,0.001)]}"
   ]
  },
  {
   "cell_type": "code",
   "execution_count": 12,
   "id": "0c68eaa4",
   "metadata": {
    "id": "0c68eaa4",
    "scrolled": true
   },
   "outputs": [],
   "source": [
    "def make_train_test_diag_split(diag1,diag2):\n",
    "    Y_train, Y_test = train_test_split(subjects, test_size = 0.25,random_state=55)\n",
    "    X_train = pd.DataFrame(data, index=Y_train.index)\n",
    "    X_test= pd.DataFrame(data, index=Y_test.index)\n",
    "    \n",
    "    Y_test['diag'] = Y_test['diag'].astype('int')\n",
    "    Y_train['diag'] = Y_train['diag'].astype('int')\n",
    "    #filter diag1 and diag2 on train dataset and labels\n",
    "    X_train_diag1 = X_train.loc[X_train.index[Y_train['diag']==diag1]]\n",
    "    X_train_diag2 = X_train.loc[X_train.index[Y_train['diag']==diag2]]\n",
    "    X_train_diag = X_train_diag1.append(X_train_diag2)\n",
    "\n",
    "    Y_train_diag1 = Y_train.loc[Y_train.index[Y_train['diag']==diag1]]\n",
    "    Y_train_diag2 = Y_train.loc[Y_train.index[Y_train['diag']==diag2]]\n",
    "    Y_train_diag = Y_train_diag1.append(Y_train_diag2)\n",
    "\n",
    "    #Rename Y labels to 0 and 1\n",
    "    Y_train_diag.loc[Y_train_diag['diag'] == diag1, 'diag'] = 0\n",
    "    Y_train_diag.loc[Y_train_diag['diag'] == diag2, 'diag'] = 1\n",
    "\n",
    "\n",
    "    #filter diag1 and diag2 on test dataset and labels\n",
    "    X_test_diag1 = X_test.loc[X_test.index[Y_test['diag']==diag1]]\n",
    "    X_test_diag2 = X_test.loc[X_test.index[Y_test['diag']==diag2]]\n",
    "    X_test_diag = X_test_diag1.append(X_test_diag2)\n",
    "\n",
    "\n",
    "    Y_test_diag1 = Y_test.loc[Y_test.index[Y_test['diag']==diag1]]\n",
    "    Y_test_diag2 = Y_test.loc[Y_test.index[Y_test['diag']==diag2]]\n",
    "    Y_test_diag = Y_test_diag1.append(Y_test_diag2)\n",
    "\n",
    "\n",
    "    #Rename Y labels to 0 and 1\n",
    "\n",
    "    Y_test_diag.loc[Y_test_diag['diag'] == diag1, 'diag'] = 0\n",
    "    Y_test_diag.loc[Y_test_diag['diag'] == diag2, 'diag'] = 1\n",
    "    trainingsamples = np.unique(Y_train_diag.diag,return_counts=True)\n",
    "    print(\"number of training samples \" + str(trainingsamples))\n",
    "    testsamples = np.unique(Y_test_diag.diag,return_counts=True)\n",
    "    print(\"number of testing samples \" + str(testsamples))\n",
    "\n",
    "    return X_train_diag,X_test_diag,Y_train_diag,Y_test_diag\n",
    "\n",
    "\n",
    "\n",
    "CN = 0\n",
    "SCD = 1\n",
    "MCI = 2\n",
    "AD = 5\n",
    "ADR = 100\n",
    "\n"
   ]
  },
  {
   "cell_type": "markdown",
   "id": "f2ef1071",
   "metadata": {
    "id": "f2ef1071"
   },
   "source": [
    "### CN vs SCD"
   ]
  },
  {
   "cell_type": "code",
   "execution_count": 13,
   "id": "4af901c4",
   "metadata": {
    "id": "4af901c4",
    "outputId": "4c9c8057-98d4-4ead-eedd-1a4609ad2136"
   },
   "outputs": [
    {
     "name": "stderr",
     "output_type": "stream",
     "text": [
      "/tmp/ipykernel_47077/550404812.py:6: SettingWithCopyWarning: \n",
      "A value is trying to be set on a copy of a slice from a DataFrame.\n",
      "Try using .loc[row_indexer,col_indexer] = value instead\n",
      "\n",
      "See the caveats in the documentation: https://pandas.pydata.org/pandas-docs/stable/user_guide/indexing.html#returning-a-view-versus-a-copy\n",
      "  Y_test['diag'] = Y_test['diag'].astype('int')\n",
      "/tmp/ipykernel_47077/550404812.py:7: SettingWithCopyWarning: \n",
      "A value is trying to be set on a copy of a slice from a DataFrame.\n",
      "Try using .loc[row_indexer,col_indexer] = value instead\n",
      "\n",
      "See the caveats in the documentation: https://pandas.pydata.org/pandas-docs/stable/user_guide/indexing.html#returning-a-view-versus-a-copy\n",
      "  Y_train['diag'] = Y_train['diag'].astype('int')\n"
     ]
    },
    {
     "name": "stdout",
     "output_type": "stream",
     "text": [
      "number of training samples (array([0, 1]), array([116, 152]))\n",
      "number of testing samples (array([0, 1]), array([36, 52]))\n",
      " tuning for scoring roc_auc \n",
      "best parameters {'C': 1e-05, 'kernel': 'linear'}\n",
      "cross validation results {'mean_fit_time': array([3.14033146, 3.11943493, 3.00724978, 3.2813314 , 3.05258503,\n",
      "       3.06497216, 3.19534292, 3.16271439, 3.04674072, 3.01951041]), 'std_fit_time': array([0.05706294, 0.13599639, 0.09038413, 0.24919967, 0.13039242,\n",
      "       0.03269582, 0.1657377 , 0.08921736, 0.06110057, 0.02120169]), 'mean_score_time': array([1.26161976, 1.31769471, 1.21148305, 1.23979549, 1.24897799,\n",
      "       1.13518925, 1.33468924, 1.267946  , 1.2368783 , 1.2703361 ]), 'std_score_time': array([0.0374496 , 0.09827615, 0.12930937, 0.08252354, 0.07715382,\n",
      "       0.06408135, 0.18452296, 0.08869837, 0.11253867, 0.102918  ]), 'param_C': masked_array(data=[1e-05, 0.00101, 0.00201, 0.00301, 0.00401, 0.00501,\n",
      "                   0.00601, 0.00701, 0.00801, 0.00901],\n",
      "             mask=[False, False, False, False, False, False, False, False,\n",
      "                   False, False],\n",
      "       fill_value='?',\n",
      "            dtype=object), 'param_kernel': masked_array(data=['linear', 'linear', 'linear', 'linear', 'linear',\n",
      "                   'linear', 'linear', 'linear', 'linear', 'linear'],\n",
      "             mask=[False, False, False, False, False, False, False, False,\n",
      "                   False, False],\n",
      "       fill_value='?',\n",
      "            dtype=object), 'params': [{'C': 1e-05, 'kernel': 'linear'}, {'C': 0.00101, 'kernel': 'linear'}, {'C': 0.00201, 'kernel': 'linear'}, {'C': 0.00301, 'kernel': 'linear'}, {'C': 0.00401, 'kernel': 'linear'}, {'C': 0.00501, 'kernel': 'linear'}, {'C': 0.00601, 'kernel': 'linear'}, {'C': 0.00701, 'kernel': 'linear'}, {'C': 0.00801, 'kernel': 'linear'}, {'C': 0.00901, 'kernel': 'linear'}], 'split0_test_score': array([0.53888889, 0.50833333, 0.46944444, 0.45277778, 0.45277778,\n",
      "       0.45      , 0.45      , 0.45      , 0.45      , 0.45      ]), 'split1_test_score': array([0.65778401, 0.61009818, 0.58204769, 0.58345021, 0.58906031,\n",
      "       0.58765778, 0.59046283, 0.59046283, 0.59046283, 0.59046283]), 'split2_test_score': array([0.47826087, 0.49789621, 0.49649369, 0.47826087, 0.46984572,\n",
      "       0.47265077, 0.4740533 , 0.4740533 , 0.4740533 , 0.4740533 ]), 'split3_test_score': array([0.52753623, 0.49710145, 0.46086957, 0.45507246, 0.45072464,\n",
      "       0.45507246, 0.45507246, 0.45652174, 0.45652174, 0.45652174]), 'split4_test_score': array([0.51304348, 0.46231884, 0.39710145, 0.37971014, 0.36666667,\n",
      "       0.36376812, 0.35942029, 0.35942029, 0.35942029, 0.35942029]), 'mean_test_score': array([0.5431027 , 0.5151496 , 0.48119137, 0.46985429, 0.46581502,\n",
      "       0.46582983, 0.46580178, 0.46609163, 0.46609163, 0.46609163]), 'std_test_score': array([0.06086032, 0.04995237, 0.06004705, 0.06574311, 0.07132143,\n",
      "       0.07165399, 0.07387869, 0.07383885, 0.07383885, 0.07383885]), 'rank_test_score': array([ 1,  2,  3,  4,  9,  8, 10,  5,  5,  5], dtype=int32)}\n",
      "Best scores  0.5431026959638461\n",
      " F1 score on test set ----  0.438961038961039\n"
     ]
    },
    {
     "data": {
      "image/png": "[encoded data removed]",
      "text/plain": [
       "<Figure size 432x288 with 1 Axes>"
      ]
     },
     "metadata": {
      "needs_background": "light"
     },
     "output_type": "display_data"
    },
    {
     "name": "stdout",
     "output_type": "stream",
     "text": [
      "(array([0, 1]), array([36, 52]))\n"
     ]
    },
    {
     "data": {
      "image/png": "[encoded data removed]",
      "text/plain": [
       "<Figure size 432x288 with 2 Axes>"
      ]
     },
     "metadata": {
      "needs_background": "light"
     },
     "output_type": "display_data"
    },
    {
     "name": "stdout",
     "output_type": "stream",
     "text": [
      " tuning for scoring f1_weighted \n",
      "best parameters {'C': 0.00101, 'kernel': 'linear'}\n",
      "cross validation results {'mean_fit_time': array([3.12046585, 3.08367653, 3.70161943, 3.24717703, 3.47519069,\n",
      "       3.41623068, 3.06970725, 3.3707304 , 3.42672286, 3.26490612]), 'std_fit_time': array([0.1736421 , 0.17313783, 0.48922317, 0.16621495, 0.33973633,\n",
      "       0.03248972, 0.09974612, 0.09699419, 0.22226551, 0.13199903]), 'mean_score_time': array([1.14439311, 1.33337297, 1.32991395, 1.21663189, 1.31868882,\n",
      "       1.40009518, 1.28516264, 1.368852  , 1.23381667, 1.28700824]), 'std_score_time': array([0.08462177, 0.16857045, 0.10933588, 0.08514828, 0.11547317,\n",
      "       0.09183764, 0.05586127, 0.1233733 , 0.06218354, 0.11242556]), 'param_C': masked_array(data=[1e-05, 0.00101, 0.00201, 0.00301, 0.00401, 0.00501,\n",
      "                   0.00601, 0.00701, 0.00801, 0.00901],\n",
      "             mask=[False, False, False, False, False, False, False, False,\n",
      "                   False, False],\n",
      "       fill_value='?',\n",
      "            dtype=object), 'param_kernel': masked_array(data=['linear', 'linear', 'linear', 'linear', 'linear',\n",
      "                   'linear', 'linear', 'linear', 'linear', 'linear'],\n",
      "             mask=[False, False, False, False, False, False, False, False,\n",
      "                   False, False],\n",
      "       fill_value='?',\n",
      "            dtype=object), 'params': [{'C': 1e-05, 'kernel': 'linear'}, {'C': 0.00101, 'kernel': 'linear'}, {'C': 0.00201, 'kernel': 'linear'}, {'C': 0.00301, 'kernel': 'linear'}, {'C': 0.00401, 'kernel': 'linear'}, {'C': 0.00501, 'kernel': 'linear'}, {'C': 0.00601, 'kernel': 'linear'}, {'C': 0.00701, 'kernel': 'linear'}, {'C': 0.00801, 'kernel': 'linear'}, {'C': 0.00901, 'kernel': 'linear'}], 'split0_test_score': array([0.3968254 , 0.41104588, 0.4382716 , 0.40690855, 0.4146293 ,\n",
      "       0.39201539, 0.39201539, 0.39201539, 0.39201539, 0.39201539]), 'split1_test_score': array([0.41873638, 0.59593707, 0.54785955, 0.58001089, 0.59593707,\n",
      "       0.59593707, 0.6118073 , 0.6118073 , 0.6118073 , 0.6118073 ]), 'split2_test_score': array([0.41873638, 0.51851852, 0.52052469, 0.44750958, 0.48364198,\n",
      "       0.48364198, 0.48364198, 0.48364198, 0.48364198, 0.48364198]), 'split3_test_score': array([0.40918391, 0.48908135, 0.48908135, 0.45123552, 0.40861698,\n",
      "       0.40861698, 0.40861698, 0.42469677, 0.42469677, 0.42469677]), 'split4_test_score': array([0.40918391, 0.50169612, 0.40192573, 0.37838765, 0.40767568,\n",
      "       0.40767568, 0.41723842, 0.41723842, 0.41723842, 0.41723842]), 'mean_test_score': array([0.41053319, 0.50325579, 0.47953258, 0.45281044, 0.4621002 ,\n",
      "       0.45757742, 0.46266401, 0.46587997, 0.46587997, 0.46587997]), 'std_test_score': array([0.00807626, 0.05920944, 0.05322668, 0.06907426, 0.07273558,\n",
      "       0.07616882, 0.08082028, 0.07890286, 0.07890286, 0.07890286]), 'rank_test_score': array([10,  1,  2,  9,  7,  8,  6,  3,  3,  3], dtype=int32)}\n",
      "Best scores  0.5032557877246002\n",
      " F1 score on test set ----  0.5522971652003911\n"
     ]
    },
    {
     "data": {
      "image/png": "[encoded data removed]",
      "text/plain": [
       "<Figure size 432x288 with 1 Axes>"
      ]
     },
     "metadata": {
      "needs_background": "light"
     },
     "output_type": "display_data"
    },
    {
     "name": "stdout",
     "output_type": "stream",
     "text": [
      "(array([0, 1]), array([36, 52]))\n"
     ]
    },
    {
     "data": {
      "image/png": "[encoded data removed]",
      "text/plain": [
       "<Figure size 432x288 with 2 Axes>"
      ]
     },
     "metadata": {
      "needs_background": "light"
     },
     "output_type": "display_data"
    }
   ],
   "source": [
    "X_train_diag,X_test_diag,Y_train_diag,Y_test_diag = make_train_test_diag_split(CN,SCD)\n",
    "from sklearn.metrics import make_scorer,roc_auc_score,f1_score\n",
    "from sklearn.model_selection import StratifiedKFold\n",
    "#Create a svm Classifier\n",
    "parameters = {'kernel':['linear'], 'C': [i for i in np.arange(0.00001,.01,0.001)]}\n",
    "\n",
    "svc = svm.SVC()\n",
    "for score in scoring:\n",
    "    print( \" tuning for scoring %s \" % score)\n",
    "    clf = GridSearchCV(svc, parameters,cv=StratifiedKFold(5,shuffle=True,random_state=55),refit=True,scoring=\"%s\" % score)\n",
    "\n",
    "    #y_score = clf.fit(X_train, Y_train.sex).decision_function(X_test)\n",
    "    clf.fit(X_train_diag, Y_train_diag.diag)\n",
    "    print(\"best parameters\", clf.best_params_)\n",
    "    print(\"cross validation results\", clf.cv_results_)\n",
    "    print(\"Best scores \", clf.best_score_)\n",
    "    y_pred = clf.predict(X_test_diag)\n",
    "    print(\" F1 score on test set ---- \" , f1_score(Y_test_diag.diag, y_pred, average='weighted'))\n",
    "    plotting_roc_auc_curve(Y_test_diag.diag,y_pred)\n",
    "    create_confusion_matrix(Y_test_diag.diag,y_pred,clf)"
   ]
  },
  {
   "cell_type": "markdown",
   "id": "21891025",
   "metadata": {
    "id": "21891025"
   },
   "source": [
    "### CN vs MCI"
   ]
  },
  {
   "cell_type": "code",
   "execution_count": 14,
   "id": "fb5d654a",
   "metadata": {
    "id": "fb5d654a",
    "outputId": "5231c966-d48b-44fd-9415-29377b382819"
   },
   "outputs": [
    {
     "name": "stderr",
     "output_type": "stream",
     "text": [
      "/tmp/ipykernel_47077/550404812.py:6: SettingWithCopyWarning: \n",
      "A value is trying to be set on a copy of a slice from a DataFrame.\n",
      "Try using .loc[row_indexer,col_indexer] = value instead\n",
      "\n",
      "See the caveats in the documentation: https://pandas.pydata.org/pandas-docs/stable/user_guide/indexing.html#returning-a-view-versus-a-copy\n",
      "  Y_test['diag'] = Y_test['diag'].astype('int')\n",
      "/tmp/ipykernel_47077/550404812.py:7: SettingWithCopyWarning: \n",
      "A value is trying to be set on a copy of a slice from a DataFrame.\n",
      "Try using .loc[row_indexer,col_indexer] = value instead\n",
      "\n",
      "See the caveats in the documentation: https://pandas.pydata.org/pandas-docs/stable/user_guide/indexing.html#returning-a-view-versus-a-copy\n",
      "  Y_train['diag'] = Y_train['diag'].astype('int')\n"
     ]
    },
    {
     "name": "stdout",
     "output_type": "stream",
     "text": [
      "number of training samples (array([0, 1]), array([116,  48]))\n",
      "number of testing samples (array([0, 1]), array([36, 17]))\n",
      " tuning for scoring f1_weighted \n",
      "best parameters {'C': 0.00101, 'kernel': 'linear'}\n",
      "cross validation results {'mean_fit_time': array([1.91646557, 1.91246009, 1.84114923, 1.91592474, 2.00589194,\n",
      "       1.96459336, 1.87185678, 2.10671453, 1.9589922 , 1.85254579]), 'std_fit_time': array([0.08055797, 0.09690197, 0.10602997, 0.10298901, 0.10576613,\n",
      "       0.08015845, 0.08767918, 0.15605741, 0.19416988, 0.05302181]), 'mean_score_time': array([1.05238333, 1.02389345, 1.00483575, 1.09792523, 0.9856782 ,\n",
      "       1.08371077, 1.03530564, 1.09065213, 1.03625116, 0.95250173]), 'std_score_time': array([0.03853981, 0.08388301, 0.0649079 , 0.10982392, 0.03069832,\n",
      "       0.06912077, 0.05861486, 0.11921005, 0.09709254, 0.04471852]), 'param_C': masked_array(data=[1e-05, 0.00101, 0.00201, 0.00301, 0.00401, 0.00501,\n",
      "                   0.00601, 0.00701, 0.00801, 0.00901],\n",
      "             mask=[False, False, False, False, False, False, False, False,\n",
      "                   False, False],\n",
      "       fill_value='?',\n",
      "            dtype=object), 'param_kernel': masked_array(data=['linear', 'linear', 'linear', 'linear', 'linear',\n",
      "                   'linear', 'linear', 'linear', 'linear', 'linear'],\n",
      "             mask=[False, False, False, False, False, False, False, False,\n",
      "                   False, False],\n",
      "       fill_value='?',\n",
      "            dtype=object), 'params': [{'C': 1e-05, 'kernel': 'linear'}, {'C': 0.00101, 'kernel': 'linear'}, {'C': 0.00201, 'kernel': 'linear'}, {'C': 0.00301, 'kernel': 'linear'}, {'C': 0.00401, 'kernel': 'linear'}, {'C': 0.00501, 'kernel': 'linear'}, {'C': 0.00601, 'kernel': 'linear'}, {'C': 0.00701, 'kernel': 'linear'}, {'C': 0.00801, 'kernel': 'linear'}, {'C': 0.00901, 'kernel': 'linear'}], 'split0_test_score': array([0.61244019, 0.56565657, 0.55258068, 0.51515152, 0.55258068,\n",
      "       0.55258068, 0.55258068, 0.55258068, 0.55258068, 0.58774704]), 'split1_test_score': array([0.57251082, 0.61840629, 0.62745098, 0.60545455, 0.60545455,\n",
      "       0.62745098, 0.62745098, 0.60545455, 0.60545455, 0.60545455]), 'split2_test_score': array([0.57251082, 0.54208754, 0.53969697, 0.51926225, 0.51926225,\n",
      "       0.51926225, 0.51926225, 0.51926225, 0.51926225, 0.51926225]), 'split3_test_score': array([0.57251082, 0.55757576, 0.60545455, 0.53832841, 0.53832841,\n",
      "       0.53832841, 0.53832841, 0.56102694, 0.56102694, 0.56102694]), 'split4_test_score': array([0.60113636, 0.64783448, 0.58642857, 0.609375  , 0.5625    ,\n",
      "       0.53837719, 0.53837719, 0.53837719, 0.53837719, 0.53837719]), 'mean_test_score': array([0.5862218 , 0.58631213, 0.58232235, 0.55751434, 0.55562518,\n",
      "       0.5551999 , 0.5551999 , 0.55534032, 0.55534032, 0.56237359]), 'std_test_score': array([0.0171687 , 0.04005816, 0.03252704, 0.04150596, 0.02884766,\n",
      "       0.03764637, 0.03764637, 0.02877764, 0.02877764, 0.03141977]), 'rank_test_score': array([2, 1, 3, 5, 6, 9, 9, 7, 7, 4], dtype=int32)}\n",
      "Best scores  0.5863121254473456\n",
      " F1 score on test set ----  0.5920117618230826\n"
     ]
    },
    {
     "data": {
      "image/png": "[encoded data removed]",
      "text/plain": [
       "<Figure size 432x288 with 1 Axes>"
      ]
     },
     "metadata": {
      "needs_background": "light"
     },
     "output_type": "display_data"
    },
    {
     "name": "stdout",
     "output_type": "stream",
     "text": [
      "(array([0, 1]), array([36, 17]))\n"
     ]
    },
    {
     "data": {
      "image/png": "[encoded data removed]",
      "text/plain": [
       "<Figure size 432x288 with 2 Axes>"
      ]
     },
     "metadata": {
      "needs_background": "light"
     },
     "output_type": "display_data"
    }
   ],
   "source": [
    "X_train_diag,X_test_diag,Y_train_diag,Y_test_diag = make_train_test_diag_split(CN,MCI)\n",
    "\n",
    "\n",
    "#Create a svm Classifier\n",
    "svc = svm.SVC(tol=0.00000001)\n",
    "scoring = ['f1_weighted']\n",
    "parameters = {'kernel':['linear'], 'C': [i for i in np.arange(0.00001,.01,0.001)]}\n",
    "\n",
    "#Create a svm Classifier\n",
    "svc = svm.SVC(cache_size=10000)\n",
    "parameters = {'kernel':['linear'], 'C': [i for i in np.arange(0.00001,.01,0.001)]}\n",
    "\n",
    "for score in scoring:\n",
    "    print( \" tuning for scoring %s \" % score)\n",
    "    clf = GridSearchCV(svc, parameters,cv=StratifiedKFold(5,shuffle=True,random_state=55),refit=True,scoring=\"%s\" % score)\n",
    "\n",
    "    #y_score = clf.fit(X_train, Y_train.sex).decision_function(X_test)\n",
    "    clf.fit(X_train_diag, Y_train_diag.diag)\n",
    "    print(\"best parameters\", clf.best_params_)\n",
    "    print(\"cross validation results\", clf.cv_results_)\n",
    "    print(\"Best scores \", clf.best_score_)\n",
    "    y_pred = clf.predict(X_test_diag)\n",
    "    print(\" F1 score on test set ---- \" , f1_score(Y_test_diag.diag, y_pred, average='weighted'))\n",
    "\n",
    "    plotting_roc_auc_curve(Y_test_diag.diag,y_pred)\n",
    "    create_confusion_matrix(Y_test_diag.diag,y_pred,clf)"
   ]
  },
  {
   "cell_type": "markdown",
   "id": "bdea5af8",
   "metadata": {
    "id": "bdea5af8"
   },
   "source": [
    "### CN vs AD"
   ]
  },
  {
   "cell_type": "code",
   "execution_count": 15,
   "id": "707a0404",
   "metadata": {
    "id": "707a0404",
    "outputId": "6521c8be-1070-4303-d20e-3a817bbd2bad"
   },
   "outputs": [
    {
     "name": "stderr",
     "output_type": "stream",
     "text": [
      "/tmp/ipykernel_47077/550404812.py:6: SettingWithCopyWarning: \n",
      "A value is trying to be set on a copy of a slice from a DataFrame.\n",
      "Try using .loc[row_indexer,col_indexer] = value instead\n",
      "\n",
      "See the caveats in the documentation: https://pandas.pydata.org/pandas-docs/stable/user_guide/indexing.html#returning-a-view-versus-a-copy\n",
      "  Y_test['diag'] = Y_test['diag'].astype('int')\n",
      "/tmp/ipykernel_47077/550404812.py:7: SettingWithCopyWarning: \n",
      "A value is trying to be set on a copy of a slice from a DataFrame.\n",
      "Try using .loc[row_indexer,col_indexer] = value instead\n",
      "\n",
      "See the caveats in the documentation: https://pandas.pydata.org/pandas-docs/stable/user_guide/indexing.html#returning-a-view-versus-a-copy\n",
      "  Y_train['diag'] = Y_train['diag'].astype('int')\n"
     ]
    },
    {
     "name": "stdout",
     "output_type": "stream",
     "text": [
      "number of training samples (array([0, 1]), array([116,  17]))\n",
      "number of testing samples (array([0, 1]), array([36,  4]))\n",
      " tuning for scoring f1_weighted \n",
      "best parameters {'C': 0.00201, 'kernel': 'linear'}\n",
      "cross validation results {'mean_fit_time': array([1.43174043, 1.53874607, 1.52659383, 1.54239502, 1.54298553,\n",
      "       1.58864985, 1.44238653, 1.47757492, 1.59481792, 1.5505527 ]), 'std_fit_time': array([0.04415647, 0.08811132, 0.12937309, 0.04710502, 0.03343648,\n",
      "       0.08942617, 0.06175073, 0.08605798, 0.09298221, 0.09933571]), 'mean_score_time': array([0.89821997, 0.98810239, 0.92283869, 0.96597552, 0.93941989,\n",
      "       0.93857884, 1.02372389, 0.91360164, 0.93985639, 0.9780972 ]), 'std_score_time': array([0.04082967, 0.07823084, 0.06621535, 0.06781658, 0.0602196 ,\n",
      "       0.05566331, 0.053265  , 0.05364161, 0.03668691, 0.04934172]), 'param_C': masked_array(data=[1e-05, 0.00101, 0.00201, 0.00301, 0.00401, 0.00501,\n",
      "                   0.00601, 0.00701, 0.00801, 0.00901],\n",
      "             mask=[False, False, False, False, False, False, False, False,\n",
      "                   False, False],\n",
      "       fill_value='?',\n",
      "            dtype=object), 'param_kernel': masked_array(data=['linear', 'linear', 'linear', 'linear', 'linear',\n",
      "                   'linear', 'linear', 'linear', 'linear', 'linear'],\n",
      "             mask=[False, False, False, False, False, False, False, False,\n",
      "                   False, False],\n",
      "       fill_value='?',\n",
      "            dtype=object), 'params': [{'C': 1e-05, 'kernel': 'linear'}, {'C': 0.00101, 'kernel': 'linear'}, {'C': 0.00201, 'kernel': 'linear'}, {'C': 0.00301, 'kernel': 'linear'}, {'C': 0.00401, 'kernel': 'linear'}, {'C': 0.00501, 'kernel': 'linear'}, {'C': 0.00601, 'kernel': 'linear'}, {'C': 0.00701, 'kernel': 'linear'}, {'C': 0.00801, 'kernel': 'linear'}, {'C': 0.00901, 'kernel': 'linear'}], 'split0_test_score': array([0.83660131, 0.83660131, 0.83660131, 0.81777778, 0.81777778,\n",
      "       0.81777778, 0.81777778, 0.81777778, 0.81777778, 0.81777778]), 'split1_test_score': array([0.7837037, 0.7837037, 0.7837037, 0.7837037, 0.7837037, 0.7837037,\n",
      "       0.7837037, 0.7837037, 0.7837037, 0.7837037]), 'split2_test_score': array([0.7837037 , 0.7837037 , 0.76492819, 0.76492819, 0.7837037 ,\n",
      "       0.7837037 , 0.7837037 , 0.7837037 , 0.7837037 , 0.7837037 ]), 'split3_test_score': array([0.83045526, 0.83045526, 0.83045526, 0.81089744, 0.81089744,\n",
      "       0.81089744, 0.81089744, 0.81089744, 0.81089744, 0.81089744]), 'split4_test_score': array([0.83045526, 0.83045526, 0.90544872, 0.83045526, 0.83045526,\n",
      "       0.81089744, 0.81089744, 0.81089744, 0.81089744, 0.81089744]), 'mean_test_score': array([0.81298385, 0.81298385, 0.82422744, 0.80155247, 0.80530758,\n",
      "       0.80139601, 0.80139601, 0.80139601, 0.80139601, 0.80139601]), 'std_test_score': array([0.02401224, 0.02401224, 0.04888224, 0.02385739, 0.01872225,\n",
      "       0.01466255, 0.01466255, 0.01466255, 0.01466255, 0.01466255]), 'rank_test_score': array([2, 2, 1, 5, 4, 6, 6, 6, 6, 6], dtype=int32)}\n",
      "Best scores  0.8242274362736547\n",
      " F1 score on test set ----  0.8400000000000001\n"
     ]
    },
    {
     "data": {
      "image/png": "[encoded data removed]",
      "text/plain": [
       "<Figure size 432x288 with 1 Axes>"
      ]
     },
     "metadata": {
      "needs_background": "light"
     },
     "output_type": "display_data"
    },
    {
     "name": "stdout",
     "output_type": "stream",
     "text": [
      "(array([0, 1]), array([36,  4]))\n"
     ]
    },
    {
     "data": {
      "image/png": "[encoded data removed]",
      "text/plain": [
       "<Figure size 432x288 with 2 Axes>"
      ]
     },
     "metadata": {
      "needs_background": "light"
     },
     "output_type": "display_data"
    }
   ],
   "source": [
    "X_train_diag,X_test_diag,Y_train_diag,Y_test_diag = make_train_test_diag_split(CN,AD)\n",
    "\n",
    "#Create a svm Classifier\n",
    "svc = svm.SVC()\n",
    "parameters = {'kernel':['linear'], 'C': [i for i in np.arange(0.00001,.01,0.001)]}\n",
    "\n",
    "for score in scoring:\n",
    "    print( \" tuning for scoring %s \" % score)\n",
    "    clf = GridSearchCV(svc, parameters,cv=StratifiedKFold(5,shuffle=True,random_state=55),refit=True,scoring=\"%s\" % score)\n",
    "\n",
    "    #y_score = clf.fit(X_train, Y_train.sex).decision_function(X_test)\n",
    "    clf.fit(X_train_diag, Y_train_diag.diag)\n",
    "    print(\"best parameters\", clf.best_params_)\n",
    "    print(\"cross validation results\", clf.cv_results_)\n",
    "    print(\"Best scores \", clf.best_score_)\n",
    "    y_pred = clf.predict(X_test_diag)\n",
    "    print(\" F1 score on test set ---- \" , f1_score(Y_test_diag.diag, y_pred, average='weighted'))\n",
    "\n",
    "    plotting_roc_auc_curve(Y_test_diag.diag,y_pred)\n",
    "    create_confusion_matrix(Y_test_diag.diag,y_pred,clf)"
   ]
  },
  {
   "cell_type": "markdown",
   "id": "79714264",
   "metadata": {
    "id": "79714264"
   },
   "source": [
    "### CN vs ADR"
   ]
  },
  {
   "cell_type": "code",
   "execution_count": 16,
   "id": "696cc32d",
   "metadata": {
    "id": "696cc32d",
    "outputId": "381dbe60-3e9f-4643-b1c4-a0b98d27698a"
   },
   "outputs": [
    {
     "name": "stderr",
     "output_type": "stream",
     "text": [
      "/tmp/ipykernel_47077/550404812.py:6: SettingWithCopyWarning: \n",
      "A value is trying to be set on a copy of a slice from a DataFrame.\n",
      "Try using .loc[row_indexer,col_indexer] = value instead\n",
      "\n",
      "See the caveats in the documentation: https://pandas.pydata.org/pandas-docs/stable/user_guide/indexing.html#returning-a-view-versus-a-copy\n",
      "  Y_test['diag'] = Y_test['diag'].astype('int')\n",
      "/tmp/ipykernel_47077/550404812.py:7: SettingWithCopyWarning: \n",
      "A value is trying to be set on a copy of a slice from a DataFrame.\n",
      "Try using .loc[row_indexer,col_indexer] = value instead\n",
      "\n",
      "See the caveats in the documentation: https://pandas.pydata.org/pandas-docs/stable/user_guide/indexing.html#returning-a-view-versus-a-copy\n",
      "  Y_train['diag'] = Y_train['diag'].astype('int')\n"
     ]
    },
    {
     "name": "stdout",
     "output_type": "stream",
     "text": [
      "number of training samples (array([0, 1]), array([116,  36]))\n",
      "number of testing samples (array([0, 1]), array([36, 15]))\n",
      " tuning for scoring f1_weighted \n",
      "best parameters {'C': 0.00201, 'kernel': 'linear'}\n",
      "cross validation results {'mean_fit_time': array([1.69417949, 1.73596587, 1.6868576 , 1.77985072, 1.72189636,\n",
      "       1.70973616, 1.87720227, 1.74396544, 1.69721885, 1.795015  ]), 'std_fit_time': array([0.06075441, 0.12111213, 0.06945401, 0.11135319, 0.07172395,\n",
      "       0.09989911, 0.1448962 , 0.10235171, 0.05838383, 0.11174162]), 'mean_score_time': array([1.05991755, 0.95438228, 0.99269309, 1.08428001, 0.99377956,\n",
      "       1.02803488, 0.98054352, 1.08617916, 0.9937675 , 1.03725753]), 'std_score_time': array([0.11307848, 0.04955953, 0.06314148, 0.12081822, 0.06414629,\n",
      "       0.10403321, 0.06070767, 0.11160659, 0.04865882, 0.10636734]), 'param_C': masked_array(data=[1e-05, 0.00101, 0.00201, 0.00301, 0.00401, 0.00501,\n",
      "                   0.00601, 0.00701, 0.00801, 0.00901],\n",
      "             mask=[False, False, False, False, False, False, False, False,\n",
      "                   False, False],\n",
      "       fill_value='?',\n",
      "            dtype=object), 'param_kernel': masked_array(data=['linear', 'linear', 'linear', 'linear', 'linear',\n",
      "                   'linear', 'linear', 'linear', 'linear', 'linear'],\n",
      "             mask=[False, False, False, False, False, False, False, False,\n",
      "                   False, False],\n",
      "       fill_value='?',\n",
      "            dtype=object), 'params': [{'C': 1e-05, 'kernel': 'linear'}, {'C': 0.00101, 'kernel': 'linear'}, {'C': 0.00201, 'kernel': 'linear'}, {'C': 0.00301, 'kernel': 'linear'}, {'C': 0.00401, 'kernel': 'linear'}, {'C': 0.00501, 'kernel': 'linear'}, {'C': 0.00601, 'kernel': 'linear'}, {'C': 0.00701, 'kernel': 'linear'}, {'C': 0.00801, 'kernel': 'linear'}, {'C': 0.00901, 'kernel': 'linear'}], 'split0_test_score': array([0.67565982, 0.64272672, 0.62531017, 0.60721063, 0.60721063,\n",
      "       0.60721063, 0.60721063, 0.60721063, 0.60721063, 0.60721063]), 'split1_test_score': array([0.63201912, 0.63201912, 0.70129168, 0.67940447, 0.67940447,\n",
      "       0.67940447, 0.67940447, 0.67940447, 0.67940447, 0.67940447]), 'split2_test_score': array([0.66540881, 0.64871795, 0.61333333, 0.61333333, 0.61333333,\n",
      "       0.61333333, 0.61333333, 0.61333333, 0.61333333, 0.61333333]), 'split3_test_score': array([0.66540881, 0.66540881, 0.66540881, 0.63137255, 0.63137255,\n",
      "       0.64871795, 0.64871795, 0.64871795, 0.64871795, 0.64871795]), 'split4_test_score': array([0.66540881, 0.66540881, 0.71328976, 0.66827458, 0.64583333,\n",
      "       0.64583333, 0.64583333, 0.64583333, 0.64583333, 0.64583333]), 'mean_test_score': array([0.66078107, 0.65085628, 0.66372675, 0.63991911, 0.63543086,\n",
      "       0.63889994, 0.63889994, 0.63889994, 0.63889994, 0.63889994]), 'std_test_score': array([0.01491895, 0.01303114, 0.03971341, 0.02902695, 0.02585746,\n",
      "       0.02624098, 0.02624098, 0.02624098, 0.02624098, 0.02624098]), 'rank_test_score': array([ 2,  3,  1,  4, 10,  5,  5,  5,  5,  5], dtype=int32)}\n",
      "Best scores  0.6637267495061344\n",
      " F1 score on test set ----  0.604108309990663\n"
     ]
    },
    {
     "data": {
      "image/png": "[encoded data removed]",
      "text/plain": [
       "<Figure size 432x288 with 1 Axes>"
      ]
     },
     "metadata": {
      "needs_background": "light"
     },
     "output_type": "display_data"
    },
    {
     "name": "stdout",
     "output_type": "stream",
     "text": [
      "(array([0, 1]), array([36, 15]))\n"
     ]
    },
    {
     "data": {
      "image/png": "[encoded data removed]",
      "text/plain": [
       "<Figure size 432x288 with 2 Axes>"
      ]
     },
     "metadata": {
      "needs_background": "light"
     },
     "output_type": "display_data"
    }
   ],
   "source": [
    "X_train_diag,X_test_diag,Y_train_diag,Y_test_diag = make_train_test_diag_split(CN,ADR)\n",
    "\n",
    "#Create a svm Classifier\n",
    "svc = svm.SVC()\n",
    "for score in scoring:\n",
    "    print( \" tuning for scoring %s \" % score)\n",
    "    clf = GridSearchCV(svc, parameters,cv=StratifiedKFold(5,shuffle=True,random_state=55),refit=True,scoring=\"%s\" % score)\n",
    "\n",
    "    #y_score = clf.fit(X_train, Y_train.sex).decision_function(X_test)\n",
    "    clf.fit(X_train_diag, Y_train_diag.diag)\n",
    "    print(\"best parameters\", clf.best_params_)\n",
    "    print(\"cross validation results\", clf.cv_results_)\n",
    "    print(\"Best scores \", clf.best_score_)\n",
    "    y_pred = clf.predict(X_test_diag)\n",
    "    print(\" F1 score on test set ---- \" , f1_score(Y_test_diag.diag, y_pred, average='weighted'))\n",
    "\n",
    "    plotting_roc_auc_curve(Y_test_diag.diag,y_pred)\n",
    "    create_confusion_matrix(Y_test_diag.diag,y_pred,clf)"
   ]
  }
 ],
 "metadata": {
  "colab": {
   "name": "svm(1)_(1)(2)(1).ipynb",
   "provenance": []
  },
  "kernelspec": {
   "display_name": "Python 3 (ipykernel)",
   "language": "python",
   "name": "python3"
  },
  "language_info": {
   "codemirror_mode": {
    "name": "ipython",
    "version": 3
   },
   "file_extension": ".py",
   "mimetype": "text/x-python",
   "name": "python",
   "nbconvert_exporter": "python",
   "pygments_lexer": "ipython3",
   "version": "3.9.7"
  }
 },
 "nbformat": 4,
 "nbformat_minor": 5
}
